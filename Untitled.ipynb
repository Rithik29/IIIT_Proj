{
 "cells": [
  {
   "cell_type": "code",
   "execution_count": 173,
   "id": "fc3512df-7679-4e2d-a77c-2337ae2465de",
   "metadata": {},
   "outputs": [
    {
     "ename": "ImportError",
     "evalue": "cannot import name 'joblib' from 'sklearn.externals' (C:\\ProgramData\\Anaconda3\\lib\\site-packages\\sklearn\\externals\\__init__.py)",
     "output_type": "error",
     "traceback": [
      "\u001b[1;31m---------------------------------------------------------------------------\u001b[0m",
      "\u001b[1;31mImportError\u001b[0m                               Traceback (most recent call last)",
      "\u001b[1;32m~\\AppData\\Local\\Temp\\ipykernel_2720\\1523745877.py\u001b[0m in \u001b[0;36m<module>\u001b[1;34m\u001b[0m\n\u001b[0;32m     16\u001b[0m \u001b[1;32mfrom\u001b[0m \u001b[0mPIL\u001b[0m \u001b[1;32mimport\u001b[0m \u001b[0mImage\u001b[0m\u001b[1;33m\u001b[0m\u001b[1;33m\u001b[0m\u001b[0m\n\u001b[0;32m     17\u001b[0m \u001b[1;32mimport\u001b[0m \u001b[0mnumpy\u001b[0m \u001b[1;32mas\u001b[0m \u001b[0mnp\u001b[0m\u001b[1;33m\u001b[0m\u001b[1;33m\u001b[0m\u001b[0m\n\u001b[1;32m---> 18\u001b[1;33m \u001b[1;32mfrom\u001b[0m \u001b[0msklearn\u001b[0m\u001b[1;33m.\u001b[0m\u001b[0mexternals\u001b[0m \u001b[1;32mimport\u001b[0m \u001b[0mjoblib\u001b[0m\u001b[1;33m\u001b[0m\u001b[1;33m\u001b[0m\u001b[0m\n\u001b[0m",
      "\u001b[1;31mImportError\u001b[0m: cannot import name 'joblib' from 'sklearn.externals' (C:\\ProgramData\\Anaconda3\\lib\\site-packages\\sklearn\\externals\\__init__.py)"
     ]
    }
   ],
   "source": [
    "import numpy as np\n",
    "import tensorflow as tf\n",
    "from sklearn import svm\n",
    "from sklearn.metrics import accuracy_score\n",
    "from sklearn.model_selection import train_test_split\n",
    "import os\n",
    "import tensorflow as tf\n",
    "from tensorflow import keras\n",
    "from tensorflow.keras.models import Sequential\n",
    "from keras.layers import Conv2D, MaxPooling2D, Flatten, Dense\n",
    "import cv2\n",
    "from keras.utils import to_categorical\n",
    "import joblib\n",
    "from keras.models import load_model\n",
    "import urllib.request\n",
    "from PIL import Image\n",
    "import numpy as np\n",
    "from sklearn.externals import joblib"
   ]
  },
  {
   "cell_type": "code",
   "execution_count": 6,
   "id": "a2eceee8-a43a-4351-9dcd-98fd34b470ee",
   "metadata": {},
   "outputs": [],
   "source": [
    "root_dir='D:/aventus'"
   ]
  },
  {
   "cell_type": "code",
   "execution_count": 51,
   "id": "8fe224fa",
   "metadata": {},
   "outputs": [
    {
     "name": "stdout",
     "output_type": "stream",
     "text": [
      "D:/aventus\\freshapples\n",
      "freshapples\n",
      "D:/aventus\\rottenapples\n",
      "rottenapples\n"
     ]
    }
   ],
   "source": [
    "data =[]\n",
    "labels = []\n",
    "for class_folder in os.listdir(root_dir):\n",
    "    class_folder_path = os.path.join(root_dir, class_folder)\n",
    "    print(class_folder_path)\n",
    "    for image_file in os.listdir(class_folder_path):\n",
    "        #print(class_folder_path)\n",
    "        #if image_file.endswith('.jpg'):\n",
    "        image_path = os.path.join(class_folder_path, image_file)\n",
    "        image = cv2.imread(image_path)\n",
    "        image = cv2.resize(image, (128, 128))\n",
    "        #plt.imshow(image)\n",
    "        #plt.show()\n",
    "       \n",
    "        # image = cv2.resize(image ,(128,128))\n",
    "        #image = cv2.cvtColor(image, cv2.COLOR_BGR2GRAY)\n",
    "        #image=image/255\n",
    "        image = np.array(image)\n",
    "        # image = np.reshape(image, (300, 225))\n",
    "        image=np.squeeze(image)\n",
    "        \n",
    "        \n",
    "        image=np.array(image)\n",
    "        # image = image.flatten()\n",
    "        #image=image.tolist()\n",
    "        \n",
    "        #image = list(itertools.chain.from_iterable(image))\n",
    "        \n",
    "\n",
    "        data.append(image)\n",
    "        l=''\n",
    "        if class_folder == 'freshapples':\n",
    "            l=0\n",
    "        else:\n",
    "            l=1\n",
    "        \n",
    "        labels.append(l)\n",
    "    print(class_folder)"
   ]
  },
  {
   "cell_type": "code",
   "execution_count": 52,
   "id": "53a7fe94",
   "metadata": {},
   "outputs": [
    {
     "ename": "AttributeError",
     "evalue": "'list' object has no attribute 'shape'",
     "output_type": "error",
     "traceback": [
      "\u001b[1;31m---------------------------------------------------------------------------\u001b[0m",
      "\u001b[1;31mAttributeError\u001b[0m                            Traceback (most recent call last)",
      "\u001b[1;32m~\\AppData\\Local\\Temp\\ipykernel_2720\\918310230.py\u001b[0m in \u001b[0;36m<module>\u001b[1;34m\u001b[0m\n\u001b[1;32m----> 1\u001b[1;33m \u001b[0mlabels\u001b[0m\u001b[1;33m.\u001b[0m\u001b[0mshape\u001b[0m\u001b[1;33m\u001b[0m\u001b[1;33m\u001b[0m\u001b[0m\n\u001b[0m",
      "\u001b[1;31mAttributeError\u001b[0m: 'list' object has no attribute 'shape'"
     ]
    }
   ],
   "source": [
    "labels.shape"
   ]
  },
  {
   "cell_type": "code",
   "execution_count": 53,
   "id": "3f78a891",
   "metadata": {},
   "outputs": [],
   "source": [
    "# data, temp, labels, temp2 = train_test_split(data, labels, test_size=0.6, random_state=42)"
   ]
  },
  {
   "cell_type": "code",
   "execution_count": 54,
   "id": "d123484e",
   "metadata": {},
   "outputs": [
    {
     "data": {
      "text/plain": [
       "2275"
      ]
     },
     "execution_count": 54,
     "metadata": {},
     "output_type": "execute_result"
    }
   ],
   "source": [
    "len(data)"
   ]
  },
  {
   "cell_type": "code",
   "execution_count": 55,
   "id": "54651810",
   "metadata": {},
   "outputs": [],
   "source": [
    "data = np.array(data)\n",
    "labels = np.array(labels)\n",
    "data = tf.convert_to_tensor(data)\n",
    "labels = tf.convert_to_tensor(labels)"
   ]
  },
  {
   "cell_type": "code",
   "execution_count": 56,
   "id": "74511ecd",
   "metadata": {},
   "outputs": [],
   "source": [
    "def create_cnn_model():\n",
    "\n",
    "    model = Sequential()\n",
    "\n",
    "    # Add convolutional layers\n",
    "    model.add(Conv2D(32, (3, 3), activation='relu', input_shape=(128, 128, 3)))\n",
    "    model.add(MaxPooling2D((2, 2)))\n",
    "\n",
    "    model.add(Conv2D(64, (3, 3), activation='relu'))\n",
    "    model.add(Conv2D(64, (3, 3), activation='relu'))\n",
    "    model.add(MaxPooling2D((2, 2)))\n",
    "\n",
    "    model.add(Conv2D(128, (3, 3), activation='relu'))\n",
    "    model.add(MaxPooling2D((2, 2)))\n",
    "\n",
    "    # Flatten the feature maps\n",
    "    model.add(Flatten())\n",
    "\n",
    "    # Add a fully connected layer\n",
    "    model.add(Dense(128, activation='relu'))\n",
    "\n",
    "    # Add an output layer\n",
    "    model.add(Dense(2, activation='softmax'))\n",
    "\n",
    "    model.compile(optimizer='adam', loss='categorical_crossentropy', metrics=['accuracy'])\n",
    "\n",
    "    # Train the model on your dataset\n",
    "    model.fit(data, labels, epochs=15, batch_size=32)\n",
    "\n",
    "    return model\n"
   ]
  },
  {
   "cell_type": "code",
   "execution_count": 57,
   "id": "55a4ecad",
   "metadata": {},
   "outputs": [],
   "source": [
    "labels = to_categorical(labels)"
   ]
  },
  {
   "cell_type": "code",
   "execution_count": 58,
   "id": "cbfb982a",
   "metadata": {},
   "outputs": [
    {
     "name": "stdout",
     "output_type": "stream",
     "text": [
      "Epoch 1/15\n",
      "72/72 [==============================] - 56s 689ms/step - loss: 8.6902 - accuracy: 0.7336\n",
      "Epoch 2/15\n",
      "72/72 [==============================] - 50s 699ms/step - loss: 0.2585 - accuracy: 0.8945\n",
      "Epoch 3/15\n",
      "72/72 [==============================] - 51s 715ms/step - loss: 0.1989 - accuracy: 0.9156\n",
      "Epoch 4/15\n",
      "72/72 [==============================] - 48s 672ms/step - loss: 0.1826 - accuracy: 0.9301\n",
      "Epoch 5/15\n",
      "72/72 [==============================] - 48s 673ms/step - loss: 0.1667 - accuracy: 0.9297\n",
      "Epoch 6/15\n",
      "72/72 [==============================] - 50s 689ms/step - loss: 0.1398 - accuracy: 0.9437\n",
      "Epoch 7/15\n",
      "72/72 [==============================] - 50s 693ms/step - loss: 0.0971 - accuracy: 0.9596\n",
      "Epoch 8/15\n",
      "72/72 [==============================] - 54s 743ms/step - loss: 0.1176 - accuracy: 0.9547\n",
      "Epoch 9/15\n",
      "72/72 [==============================] - 53s 734ms/step - loss: 0.1337 - accuracy: 0.9486\n",
      "Epoch 10/15\n",
      "72/72 [==============================] - 52s 722ms/step - loss: 0.1126 - accuracy: 0.9530\n",
      "Epoch 11/15\n",
      "72/72 [==============================] - 52s 719ms/step - loss: 0.0829 - accuracy: 0.9631\n",
      "Epoch 12/15\n",
      "72/72 [==============================] - 55s 766ms/step - loss: 0.1166 - accuracy: 0.9512\n",
      "Epoch 13/15\n",
      "72/72 [==============================] - 53s 741ms/step - loss: 0.0786 - accuracy: 0.9714\n",
      "Epoch 14/15\n",
      "72/72 [==============================] - 56s 779ms/step - loss: 0.0306 - accuracy: 0.9899\n",
      "Epoch 15/15\n",
      "72/72 [==============================] - 51s 705ms/step - loss: 0.0550 - accuracy: 0.9780\n"
     ]
    }
   ],
   "source": [
    "cnn_model = create_cnn_model()"
   ]
  },
  {
   "cell_type": "code",
   "execution_count": 66,
   "id": "775927e3",
   "metadata": {},
   "outputs": [
    {
     "name": "stdout",
     "output_type": "stream",
     "text": [
      "D:/aventus\\freshapples\n",
      "freshapples\n",
      "D:/aventus\\rottenapples\n",
      "rottenapples\n"
     ]
    }
   ],
   "source": [
    "data2 =[]\n",
    "labels2 = []\n",
    "for class_folder in os.listdir(root_dir):\n",
    "    class_folder_path = os.path.join(root_dir, class_folder)\n",
    "    print(class_folder_path)\n",
    "    for image_file in os.listdir(class_folder_path):\n",
    "        #print(class_folder_path)\n",
    "        #if image_file.endswith('.jpg'):\n",
    "        image_path = os.path.join(class_folder_path, image_file)\n",
    "        image = cv2.imread(image_path)\n",
    "        image = cv2.resize(image, (128, 128))\n",
    "        #plt.imshow(image)\n",
    "        #plt.show()\n",
    "       \n",
    "        # image = cv2.resize(image ,(128,128))\n",
    "        #image = cv2.cvtColor(image, cv2.COLOR_BGR2GRAY)\n",
    "        #image=image/255\n",
    "        image = np.array(image)\n",
    "        # image = np.reshape(image, (300, 225))\n",
    "        image=np.squeeze(image)\n",
    "        \n",
    "        \n",
    "        image=np.array(image)\n",
    "        # image = image.flatten()\n",
    "        #image=image.tolist()\n",
    "        \n",
    "        #image = list(itertools.chain.from_iterable(image))\n",
    "        \n",
    "\n",
    "        data2.append(image)\n",
    "        l=''\n",
    "        if class_folder == 'freshapples':\n",
    "            l=0\n",
    "        else:\n",
    "            l=1\n",
    "        \n",
    "        labels2.append(l)\n",
    "    print(class_folder)"
   ]
  },
  {
   "cell_type": "code",
   "execution_count": 67,
   "id": "c8c2ccda",
   "metadata": {},
   "outputs": [],
   "source": [
    "X_train, X_test, y_train, y_test = train_test_split(data2, labels2, test_size=0.2, random_state=42)"
   ]
  },
  {
   "cell_type": "code",
   "execution_count": 68,
   "id": "d5b997bf",
   "metadata": {},
   "outputs": [],
   "source": [
    "X_train = np.array(X_train)\n",
    "# X_test = np.convert(labels)\n",
    "X_train = tf.convert_to_tensor(X_train)\n",
    "X_test = tf.convert_to_tensor(X_test)"
   ]
  },
  {
   "cell_type": "code",
   "execution_count": 69,
   "id": "b1878f8e",
   "metadata": {},
   "outputs": [
    {
     "name": "stdout",
     "output_type": "stream",
     "text": [
      "57/57 [==============================] - 6s 100ms/step\n",
      "15/15 [==============================] - 2s 109ms/step\n"
     ]
    }
   ],
   "source": [
    "train_features = cnn_model.predict(X_train)\n",
    "# val_features = cnn_model.predict(val_images)\n",
    "test_features = cnn_model.predict(X_test)"
   ]
  },
  {
   "cell_type": "code",
   "execution_count": null,
   "id": "34a9038b",
   "metadata": {},
   "outputs": [],
   "source": []
  },
  {
   "cell_type": "code",
   "execution_count": null,
   "id": "303b6941",
   "metadata": {},
   "outputs": [],
   "source": []
  },
  {
   "cell_type": "code",
   "execution_count": 70,
   "id": "9ec4402a",
   "metadata": {},
   "outputs": [
    {
     "data": {
      "text/plain": [
       "SVC()"
      ]
     },
     "execution_count": 70,
     "metadata": {},
     "output_type": "execute_result"
    }
   ],
   "source": [
    "svm_classifier = svm.SVC()\n",
    "svm_classifier.fit(train_features, y_train)"
   ]
  },
  {
   "cell_type": "code",
   "execution_count": 71,
   "id": "fd57fa83",
   "metadata": {},
   "outputs": [
    {
     "name": "stdout",
     "output_type": "stream",
     "text": [
      "Test Accuracy: 0.9956043956043956\n"
     ]
    }
   ],
   "source": [
    "test_predictions = svm_classifier.predict(test_features)\n",
    "test_accuracy = accuracy_score(y_test, test_predictions)\n",
    "print(\"Test Accuracy:\", test_accuracy)\n"
   ]
  },
  {
   "cell_type": "code",
   "execution_count": 72,
   "id": "606a0374",
   "metadata": {},
   "outputs": [],
   "source": [
    "from sklearn.metrics import precision_score, recall_score, confusion_matrix"
   ]
  },
  {
   "cell_type": "code",
   "execution_count": 75,
   "id": "4824e2e9",
   "metadata": {},
   "outputs": [],
   "source": [
    "precision = precision_score(y_test, test_predictions)\n",
    "recall = recall_score(y_test, test_predictions)\n",
    "confusion_mat = confusion_matrix(y_test, test_predictions)\n"
   ]
  },
  {
   "cell_type": "code",
   "execution_count": 76,
   "id": "b2c6288c",
   "metadata": {},
   "outputs": [
    {
     "name": "stdout",
     "output_type": "stream",
     "text": [
      "Precision: 0.99103\n",
      "Recall: 1.00000\n",
      "Confusion Matrix:\n",
      "[[232   2]\n",
      " [  0 221]]\n"
     ]
    }
   ],
   "source": [
    "print(\"Precision: {:.5f}\".format(precision))\n",
    "print(\"Recall: {:.5f}\".format(recall))\n",
    "print(\"Confusion Matrix:\")\n",
    "print(confusion_mat)"
   ]
  },
  {
   "cell_type": "code",
   "execution_count": 121,
   "id": "1d99c7fe",
   "metadata": {},
   "outputs": [],
   "source": [
    "import random"
   ]
  },
  {
   "cell_type": "code",
   "execution_count": 137,
   "id": "6f300b36",
   "metadata": {},
   "outputs": [],
   "source": [
    "gase = [0.001, 0.002, 0.001, 0.002,0.0025]"
   ]
  },
  {
   "cell_type": "code",
   "execution_count": 138,
   "id": "7c7036ad",
   "metadata": {},
   "outputs": [],
   "source": [
    "amo = [0.000, 0.0001, 0.0002, 0.0000, 0.0001]"
   ]
  },
  {
   "cell_type": "code",
   "execution_count": 139,
   "id": "dd535b45",
   "metadata": {},
   "outputs": [],
   "source": [
    "vo = [0.000, 0.0001, 0.0002, 0.0001]"
   ]
  },
  {
   "cell_type": "code",
   "execution_count": 140,
   "id": "9899ee97",
   "metadata": {},
   "outputs": [],
   "source": [
    "co = [20, 24, 23, 21, 22, 22, 20]"
   ]
  },
  {
   "cell_type": "code",
   "execution_count": 164,
   "id": "95262736",
   "metadata": {},
   "outputs": [],
   "source": [
    "def gas():\n",
    "    return random.choice(gase)\n",
    "    "
   ]
  },
  {
   "cell_type": "code",
   "execution_count": 165,
   "id": "8955c47f",
   "metadata": {},
   "outputs": [],
   "source": [
    "def amonia():\n",
    "    return random.choice(amo)"
   ]
  },
  {
   "cell_type": "code",
   "execution_count": 166,
   "id": "225662f5",
   "metadata": {},
   "outputs": [],
   "source": [
    "def VOCs():\n",
    "    return random.choice(vo)"
   ]
  },
  {
   "cell_type": "code",
   "execution_count": 167,
   "id": "97141304",
   "metadata": {},
   "outputs": [],
   "source": [
    "def CO2():\n",
    "    return random.choice(co)"
   ]
  },
  {
   "cell_type": "code",
   "execution_count": 150,
   "id": "7da3fbc6",
   "metadata": {},
   "outputs": [],
   "source": [
    "cnn_model.save('fruitcnn.h5')"
   ]
  },
  {
   "cell_type": "code",
   "execution_count": 146,
   "id": "bb7ff30f",
   "metadata": {},
   "outputs": [
    {
     "data": {
      "text/plain": [
       "['fruitsvm.pkl']"
      ]
     },
     "execution_count": 146,
     "metadata": {},
     "output_type": "execute_result"
    }
   ],
   "source": [
    "joblib.dump(svm_classifier, 'fruitsvm.pkl')"
   ]
  },
  {
   "cell_type": "code",
   "execution_count": 151,
   "id": "0b94005e",
   "metadata": {},
   "outputs": [],
   "source": [
    "loaded_model = load_model('fruitcnn.h5')"
   ]
  },
  {
   "cell_type": "code",
   "execution_count": 152,
   "id": "931346ad",
   "metadata": {},
   "outputs": [
    {
     "ename": "IndexError",
     "evalue": "tuple index out of range",
     "output_type": "error",
     "traceback": [
      "\u001b[1;31m---------------------------------------------------------------------------\u001b[0m",
      "\u001b[1;31mIndexError\u001b[0m                                Traceback (most recent call last)",
      "\u001b[1;32m~\\AppData\\Local\\Temp\\ipykernel_2720\\1862781243.py\u001b[0m in \u001b[0;36m<module>\u001b[1;34m\u001b[0m\n\u001b[1;32m----> 1\u001b[1;33m \u001b[0mpred\u001b[0m \u001b[1;33m=\u001b[0m \u001b[0mloaded_model\u001b[0m\u001b[1;33m.\u001b[0m\u001b[0mpredict\u001b[0m\u001b[1;33m(\u001b[0m\u001b[1;34m'http://192.168.131.167/capture?_cb=1685718605284'\u001b[0m\u001b[1;33m)\u001b[0m\u001b[1;33m\u001b[0m\u001b[1;33m\u001b[0m\u001b[0m\n\u001b[0m",
      "\u001b[1;32m~\\AppData\\Roaming\\Python\\Python39\\site-packages\\keras\\utils\\traceback_utils.py\u001b[0m in \u001b[0;36merror_handler\u001b[1;34m(*args, **kwargs)\u001b[0m\n\u001b[0;32m     68\u001b[0m             \u001b[1;31m# To get the full stack trace, call:\u001b[0m\u001b[1;33m\u001b[0m\u001b[1;33m\u001b[0m\u001b[0m\n\u001b[0;32m     69\u001b[0m             \u001b[1;31m# `tf.debugging.disable_traceback_filtering()`\u001b[0m\u001b[1;33m\u001b[0m\u001b[1;33m\u001b[0m\u001b[0m\n\u001b[1;32m---> 70\u001b[1;33m             \u001b[1;32mraise\u001b[0m \u001b[0me\u001b[0m\u001b[1;33m.\u001b[0m\u001b[0mwith_traceback\u001b[0m\u001b[1;33m(\u001b[0m\u001b[0mfiltered_tb\u001b[0m\u001b[1;33m)\u001b[0m \u001b[1;32mfrom\u001b[0m \u001b[1;32mNone\u001b[0m\u001b[1;33m\u001b[0m\u001b[1;33m\u001b[0m\u001b[0m\n\u001b[0m\u001b[0;32m     71\u001b[0m         \u001b[1;32mfinally\u001b[0m\u001b[1;33m:\u001b[0m\u001b[1;33m\u001b[0m\u001b[1;33m\u001b[0m\u001b[0m\n\u001b[0;32m     72\u001b[0m             \u001b[1;32mdel\u001b[0m \u001b[0mfiltered_tb\u001b[0m\u001b[1;33m\u001b[0m\u001b[1;33m\u001b[0m\u001b[0m\n",
      "\u001b[1;32mC:\\ProgramData\\Anaconda3\\lib\\site-packages\\tensorflow\\python\\framework\\tensor_shape.py\u001b[0m in \u001b[0;36m__getitem__\u001b[1;34m(self, key)\u001b[0m\n\u001b[0;32m    904\u001b[0m       \u001b[1;32melse\u001b[0m\u001b[1;33m:\u001b[0m\u001b[1;33m\u001b[0m\u001b[1;33m\u001b[0m\u001b[0m\n\u001b[0;32m    905\u001b[0m         \u001b[1;32mif\u001b[0m \u001b[0mself\u001b[0m\u001b[1;33m.\u001b[0m\u001b[0m_v2_behavior\u001b[0m\u001b[1;33m:\u001b[0m\u001b[1;33m\u001b[0m\u001b[1;33m\u001b[0m\u001b[0m\n\u001b[1;32m--> 906\u001b[1;33m           \u001b[1;32mreturn\u001b[0m \u001b[0mself\u001b[0m\u001b[1;33m.\u001b[0m\u001b[0m_dims\u001b[0m\u001b[1;33m[\u001b[0m\u001b[0mkey\u001b[0m\u001b[1;33m]\u001b[0m\u001b[1;33m\u001b[0m\u001b[1;33m\u001b[0m\u001b[0m\n\u001b[0m\u001b[0;32m    907\u001b[0m         \u001b[1;32melse\u001b[0m\u001b[1;33m:\u001b[0m\u001b[1;33m\u001b[0m\u001b[1;33m\u001b[0m\u001b[0m\n\u001b[0;32m    908\u001b[0m           \u001b[1;32mreturn\u001b[0m \u001b[0mself\u001b[0m\u001b[1;33m.\u001b[0m\u001b[0mdims\u001b[0m\u001b[1;33m[\u001b[0m\u001b[0mkey\u001b[0m\u001b[1;33m]\u001b[0m\u001b[1;33m\u001b[0m\u001b[1;33m\u001b[0m\u001b[0m\n",
      "\u001b[1;31mIndexError\u001b[0m: tuple index out of range"
     ]
    }
   ],
   "source": [
    "pred = loaded_model.predict('http://192.168.131.167/capture?_cb=1685718605284')"
   ]
  },
  {
   "cell_type": "code",
   "execution_count": 77,
   "id": "97ccd7ec",
   "metadata": {},
   "outputs": [
    {
     "name": "stdout",
     "output_type": "stream",
     "text": [
      "D:/aventus\\freshapples\n",
      "freshapples\n",
      "D:/aventus\\rottenapples\n",
      "rottenapples\n"
     ]
    }
   ],
   "source": [
    "data3 =[]\n",
    "labels3 = []\n",
    "for class_folder in os.listdir(root_dir):\n",
    "    class_folder_path = os.path.join(root_dir, class_folder)\n",
    "    print(class_folder_path)\n",
    "    for image_file in os.listdir(class_folder_path):\n",
    "        #print(class_folder_path)\n",
    "        #if image_file.endswith('.jpg'):\n",
    "        image_path = os.path.join(class_folder_path, image_file)\n",
    "        image = cv2.imread(image_path)\n",
    "        image = cv2.resize(image, (128, 128))\n",
    "        #plt.imshow(image)\n",
    "        #plt.show()\n",
    "       \n",
    "        # image = cv2.resize(image ,(128,128))\n",
    "        #image = cv2.cvtColor(image, cv2.COLOR_BGR2GRAY)\n",
    "        #image=image/255\n",
    "        image = np.array(image)\n",
    "        # image = np.reshape(image, (300, 225))\n",
    "        image=np.squeeze(image)\n",
    "        \n",
    "        \n",
    "        image=np.array(image)\n",
    "        image = image.flatten()\n",
    "        #image=image.tolist()\n",
    "        \n",
    "        #image = list(itertools.chain.from_iterable(image))\n",
    "        \n",
    "\n",
    "        data3.append(image)\n",
    "        l=''\n",
    "        if class_folder == 'freshapples':\n",
    "            l=0\n",
    "        else:\n",
    "            l=1\n",
    "        \n",
    "        labels3.append(l)\n",
    "    print(class_folder)"
   ]
  },
  {
   "cell_type": "code",
   "execution_count": 78,
   "id": "aa3c0c86",
   "metadata": {},
   "outputs": [],
   "source": [
    "clf=svm.SVC()"
   ]
  },
  {
   "cell_type": "code",
   "execution_count": 80,
   "id": "2cd15236",
   "metadata": {},
   "outputs": [],
   "source": [
    "from genetic_selection import GeneticSelectionCV"
   ]
  },
  {
   "cell_type": "code",
   "execution_count": 107,
   "id": "5ee95fd1",
   "metadata": {},
   "outputs": [],
   "source": [
    "selector = GeneticSelectionCV(clf,\n",
    "                              cv=5,   \n",
    "                              verbose=1,\n",
    "                              scoring=\"accuracy\",\n",
    "                              max_features=256,\n",
    "                              n_population=50,\n",
    "                              crossover_proba=0.5,\n",
    "                              mutation_proba=0.2,\n",
    "                              n_generations=40,\n",
    "                              crossover_independent_proba=0.5,\n",
    "                              mutation_independent_proba=0.05,\n",
    "                              tournament_size=3,\n",
    "                              caching=True,\n",
    "                              n_jobs=-1)"
   ]
  },
  {
   "cell_type": "code",
   "execution_count": 108,
   "id": "b547187f",
   "metadata": {},
   "outputs": [
    {
     "name": "stdout",
     "output_type": "stream",
     "text": [
      "Selecting features with genetic algorithm.\n",
      "gen\tnevals\tavg                                  \tstd                               \tmin                            \tmax                                  \n",
      "0  \t50    \t[   0.764905  130.8         0.123312]\t[  0.046061  68.424265   0.021603]\t[ 0.479121  5.        0.050674]\t[   0.810549  250.          0.144971]\n",
      "1  \t31    \t[-2999.447508   892.52      3000.088945]\t[ 4582.937386  1120.995062  4582.517467]\t[-10000.           62.            0.096126]\t[     0.822857   2719.        10000.      ]\n",
      "2  \t24    \t[-1599.330268   545.32      1600.104591]\t[ 3666.352851   888.088384  3666.014909]\t[-10000.           62.            0.096126]\t[     0.822857   2664.        10000.      ]\n",
      "3  \t26    \t[-1599.321881   538.86      1600.099484]\t[ 3666.356511   895.682801  3666.017138]\t[-10000.          106.            0.096126]\t[     0.824615   2690.        10000.      ]\n",
      "4  \t24    \t[-1799.332835   583.12      1800.09416 ]\t[ 3842.187123   947.246866  3841.830427]\t[-10000.          106.            0.096126]\t[     0.824615   2719.        10000.      ]\n",
      "5  \t29    \t[-2199.360598   681.62      2200.08468 ]\t[ 4142.802612   995.8436    4142.418063]\t[-10000.          106.            0.085911]\t[     0.840879   2632.        10000.      ]\n",
      "6  \t29    \t[-2599.388659   798.42      2600.077955]\t[ 4386.704811  1079.428128  4386.296232]\t[-10000.          106.            0.085911]\t[     0.850549   2701.        10000.      ]\n",
      "7  \t33    \t[-1799.319675   615.3       1800.086422]\t[ 3842.193289   946.945051  3841.834052]\t[-10000.          110.            0.085911]\t[     0.854066   2742.        10000.      ]\n",
      "8  \t23    \t[-1799.315138   605.98      1800.084414]\t[ 3842.195415   938.219388  3841.834993]\t[-10000.          145.            0.085911]\t[     0.854066   2694.        10000.      ]\n",
      "9  \t26    \t[-2799.395868   857.02      2800.074538]\t[ 4490.365607  1098.226962  4489.942381]\t[-10000.          151.            0.088138]\t[     0.854066   2695.        10000.      ]\n",
      "10 \t23    \t[-1599.291622   562.2       1600.084325]\t[ 3666.369717   892.046658  3666.023753]\t[-10000.          157.            0.088138]\t[     0.855385   2682.        10000.      ]\n",
      "11 \t31    \t[-2599.373116   806.28      2600.071902]\t[ 4386.714024  1071.706808  4386.29982 ]\t[-10000.          158.            0.088138]\t[     0.855385   2684.        10000.      ]\n",
      "12 \t30    \t[-2799.388316   797.64      2800.069943]\t[ 4490.370316  1098.94125   4489.945247]\t[-10000.          163.            0.088138]\t[     0.857143   4713.        10000.      ]\n",
      "13 \t20    \t[-999.232985  385.74     1000.08546 ]   \t[ 3000.255672   693.027555  2999.971513]\t[-10000.          159.            0.078761]\t[     0.857143   3079.        10000.      ]\n",
      "14 \t37    \t[-1999.316862   612.8       2000.074256]\t[ 4000.341569   910.239375  3999.962872]\t[-10000.         159.           0.08392]   \t[     0.863736   2712.        10000.      ]\n",
      "15 \t32    \t[-1999.316026   662.34      2000.072922]\t[ 4000.341987   978.53598   3999.963539]\t[-10000.         160.           0.08392]   \t[     0.864176   2654.        10000.      ]\n",
      "16 \t33    \t[-3199.416281   906.4       3200.060898]\t[ 4665.161944  1117.335903  4664.71974 ]\t[-10000.          164.            0.081187]\t[     0.866813   3688.        10000.      ]\n",
      "17 \t30    \t[-2999.398488   897.08      3000.062738]\t[ 4582.969477  1215.33809   4582.534623]\t[-10000.         165.           0.07817]   \t[     0.869451   4759.        10000.      ]\n",
      "18 \t25    \t[-1799.293345   608.44      1800.072375]\t[ 3842.205625   954.010087  3841.840633]\t[-10000.         162.           0.07817]   \t[     0.869451   3735.        10000.      ]\n",
      "19 \t29    \t[-2399.343411   755.62      2400.065072]\t[ 4271.200272  1028.438115  4270.794734]\t[-10000.          166.            0.076142]\t[     0.869451   2675.        10000.      ]\n",
      "20 \t34    \t[-2399.341996   759.42      2400.063969]\t[ 4271.201067  1061.090365  4270.795353]\t[-10000.          166.            0.074668]\t[     0.872967   3657.        10000.      ]\n",
      "21 \t36    \t[-2399.340062   763.88      2400.06279 ]\t[ 4271.202154  1043.294697  4270.796016]\t[-10000.        166.          0.0773]      \t[     0.872967   2707.        10000.      ]\n",
      "22 \t27    \t[-1399.252607   517.64      1400.070754]\t[ 3470.171868   842.624679  3469.841767]\t[-10000.        170.          0.0773]      \t[     0.872967   2682.        10000.      ]\n",
      "23 \t28    \t[-2399.338558   768.16      2400.061375]\t[ 4271.202999  1050.208348  4270.796811]\t[-10000.          172.            0.076904]\t[     0.872967   2760.        10000.      ]\n",
      "24 \t31    \t[-2399.337758   803.66      2400.061142]\t[ 4271.203449  1173.715291  4270.796942]\t[-10000.          174.            0.075849]\t[     0.874286   4805.        10000.      ]\n",
      "25 \t24    \t[-1599.267736   565.54      1600.067175]\t[ 3666.380142   918.290024  3666.031239]\t[-10000.       171.         0.077]         \t[     0.874286   3751.        10000.      ]\n",
      "26 \t27    \t[-2399.337187   764.88      2400.060953]\t[ 4271.20377   1042.837564  4270.797048]\t[-10000.       174.         0.077]         \t[     0.874286   2695.        10000.      ]\n",
      "27 \t29    \t[-2199.319481   716.72      2200.062486]\t[ 4142.824449  1013.485432  4142.42985 ]\t[-10000.          175.            0.075117]\t[     0.875165   2692.        10000.      ]\n",
      "28 \t31    \t[-2799.371262   862.84      2800.057353]\t[ 4490.380951  1098.502405  4489.953098]\t[-10000.          171.            0.075117]\t[     0.876484   2697.        10000.      ]\n",
      "29 \t30    \t[-1799.283499   618.4       1800.064991]\t[ 3842.210238   939.45184   3841.844093]\t[-10000.          174.            0.073736]\t[     0.876484   2725.        10000.      ]\n",
      "30 \t23    \t[-1199.230418   470.64      1200.06945 ]\t[ 3249.899549   791.089066  3249.589716]\t[-10000.          174.            0.073736]\t[     0.877802   2688.        10000.      ]\n",
      "31 \t28    \t[-1999.299701   662.72      2000.062705]\t[ 4000.350149   966.996919  3999.968648]\t[-10000.          174.            0.074318]\t[     0.877802   2673.        10000.      ]\n",
      "32 \t26    \t[-1799.281864   566.24      1800.063997]\t[ 3842.211005   855.395758  3841.844559]\t[-10000.          170.            0.074318]\t[     0.877802   2673.        10000.      ]\n",
      "33 \t30    \t[-1799.281301   620.34      1800.06354 ]\t[ 3842.211268   942.748781  3841.844773]\t[-10000.          173.            0.076243]\t[     0.877802   2687.        10000.      ]\n",
      "34 \t28    \t[-1799.280853   618.6       1800.06296 ]\t[ 3842.211478   939.332103  3841.845045]\t[-10000.          176.            0.076228]\t[     0.877802   2668.        10000.      ]\n",
      "35 \t31    \t[-1999.298092   665.64      2000.061331]\t[ 4000.350954   973.408604  3999.969335]\t[-10000.          177.            0.076243]\t[     0.877802   2669.        10000.      ]\n",
      "36 \t23    \t[-1999.297916   666.74      2000.061183]\t[ 4000.351042   975.128911  3999.969409]\t[-10000.          177.            0.076243]\t[     0.877802   2705.        10000.      ]\n",
      "37 \t34    \t[-1999.297943   671.62      2000.061257]\t[ 4000.351029   985.096298  3999.969371]\t[-10000.          178.            0.076243]\t[     0.877802   2723.        10000.      ]\n",
      "38 \t27    \t[-1599.262646   566.08      1600.064087]\t[ 3666.382364   887.044753  3666.032586]\t[-10000.          179.            0.076243]\t[     0.877802   2685.        10000.      ]\n",
      "39 \t34    \t[-3399.420651  1009.5       3400.05032 ]\t[ 4737.503536  1157.420153  4737.051596]\t[-10000.          179.            0.076243]\t[     0.877802   2717.        10000.      ]\n",
      "40 \t34    \t[-1799.280202   567.56      1800.062519]\t[ 3842.211783   887.87941   3841.845251]\t[-10000.          179.            0.076243]\t[     0.877802   3730.        10000.      ]\n"
     ]
    },
    {
     "data": {
      "text/plain": [
       "GeneticSelectionCV(caching=True, crossover_independent_proba=0.5, cv=5,\n",
       "                   estimator=SVC(), max_features=256, n_jobs=-1,\n",
       "                   n_population=50, scoring='accuracy', verbose=1)"
      ]
     },
     "execution_count": 108,
     "metadata": {},
     "output_type": "execute_result"
    }
   ],
   "source": [
    "selector.fit(data3,labels3)"
   ]
  },
  {
   "cell_type": "code",
   "execution_count": 115,
   "id": "3fea59fc",
   "metadata": {},
   "outputs": [],
   "source": [
    "X_train2, X_test2, y_train2, y_test2 = train_test_split(data3, labels3, test_size=0.2, random_state=42)"
   ]
  },
  {
   "cell_type": "code",
   "execution_count": 116,
   "id": "edfed683",
   "metadata": {},
   "outputs": [],
   "source": [
    "train_features2 = selector.transform(X_train2)\n",
    "# val_features = cnn_model.predict(val_images)\n",
    "test_features2 = selector.transform(X_test2)"
   ]
  },
  {
   "cell_type": "code",
   "execution_count": 117,
   "id": "214870b9",
   "metadata": {},
   "outputs": [
    {
     "data": {
      "text/plain": [
       "SVC()"
      ]
     },
     "execution_count": 117,
     "metadata": {},
     "output_type": "execute_result"
    }
   ],
   "source": [
    "clf.fit(train_features2, y_train2)"
   ]
  },
  {
   "cell_type": "code",
   "execution_count": 118,
   "id": "e3a0bae0",
   "metadata": {},
   "outputs": [
    {
     "name": "stdout",
     "output_type": "stream",
     "text": [
      "Test Accuracy: 0.9340659340659341\n"
     ]
    }
   ],
   "source": [
    "test_predictions2 = clf.predict(test_features2)\n",
    "test_accuracy2 = accuracy_score(y_test2, test_predictions2)\n",
    "print(\"Test Accuracy:\", test_accuracy2)"
   ]
  },
  {
   "cell_type": "code",
   "execution_count": 119,
   "id": "d5ad4749",
   "metadata": {},
   "outputs": [],
   "source": [
    "precision2 = precision_score(y_test2, test_predictions2)\n",
    "recall2 = recall_score(y_test2, test_predictions2)\n",
    "confusion_mat2 = confusion_matrix(y_test2, test_predictions2)\n"
   ]
  },
  {
   "cell_type": "code",
   "execution_count": 120,
   "id": "6f731dc1",
   "metadata": {},
   "outputs": [
    {
     "name": "stdout",
     "output_type": "stream",
     "text": [
      "Precision: 0.91342\n",
      "Recall: 0.95475\n",
      "Confusion Matrix:\n",
      "[[214  20]\n",
      " [ 10 211]]\n"
     ]
    }
   ],
   "source": [
    "print(\"Precision: {:.5f}\".format(precision2))\n",
    "print(\"Recall: {:.5f}\".format(recall2))\n",
    "print(\"Confusion Matrix:\")\n",
    "print(confusion_mat2)"
   ]
  },
  {
   "cell_type": "code",
   "execution_count": null,
   "id": "4d040e8d",
   "metadata": {},
   "outputs": [],
   "source": []
  },
  {
   "cell_type": "code",
   "execution_count": 172,
   "id": "ac933aa7",
   "metadata": {},
   "outputs": [
    {
     "name": "stdout",
     "output_type": "stream",
     "text": [
      " * Serving Flask app \"__main__\" (lazy loading)\n",
      " * Environment: production\n",
      "\u001b[31m   WARNING: This is a development server. Do not use it in a production deployment.\u001b[0m\n",
      "\u001b[2m   Use a production WSGI server instead.\u001b[0m\n",
      " * Debug mode: off\n"
     ]
    },
    {
     "name": "stderr",
     "output_type": "stream",
     "text": [
      "WARNING:werkzeug: * Running on all addresses.\n",
      "   WARNING: This is a development server. Do not use it in a production deployment.\n",
      "INFO:werkzeug: * Running on http://192.168.186.55:5000/ (Press CTRL+C to quit)\n"
     ]
    },
    {
     "name": "stdout",
     "output_type": "stream",
     "text": [
      "{'temp2': 30, 'button_value': 'Hari Om Tat Sat', 'humi1': 53, 'humi2': 67, 'temp1': 31, 'eth_gas': 0.002, 'amm_gas': 0.0005}\n",
      "31\n"
     ]
    },
    {
     "name": "stderr",
     "output_type": "stream",
     "text": [
      "ERROR:__main__:Exception on / [POST]\n",
      "Traceback (most recent call last):\n",
      "  File \"C:\\ProgramData\\Anaconda3\\lib\\urllib\\request.py\", line 1346, in do_open\n",
      "    h.request(req.get_method(), req.selector, req.data, headers,\n",
      "  File \"C:\\ProgramData\\Anaconda3\\lib\\http\\client.py\", line 1285, in request\n",
      "    self._send_request(method, url, body, headers, encode_chunked)\n",
      "  File \"C:\\ProgramData\\Anaconda3\\lib\\http\\client.py\", line 1331, in _send_request\n",
      "    self.endheaders(body, encode_chunked=encode_chunked)\n",
      "  File \"C:\\ProgramData\\Anaconda3\\lib\\http\\client.py\", line 1280, in endheaders\n",
      "    self._send_output(message_body, encode_chunked=encode_chunked)\n",
      "  File \"C:\\ProgramData\\Anaconda3\\lib\\http\\client.py\", line 1040, in _send_output\n",
      "    self.send(msg)\n",
      "  File \"C:\\ProgramData\\Anaconda3\\lib\\http\\client.py\", line 980, in send\n",
      "    self.connect()\n",
      "  File \"C:\\ProgramData\\Anaconda3\\lib\\http\\client.py\", line 946, in connect\n",
      "    self.sock = self._create_connection(\n",
      "  File \"C:\\ProgramData\\Anaconda3\\lib\\socket.py\", line 844, in create_connection\n",
      "    raise err\n",
      "  File \"C:\\ProgramData\\Anaconda3\\lib\\socket.py\", line 832, in create_connection\n",
      "    sock.connect(sa)\n",
      "TimeoutError: [WinError 10060] A connection attempt failed because the connected party did not properly respond after a period of time, or established connection failed because connected host has failed to respond\n",
      "\n",
      "During handling of the above exception, another exception occurred:\n",
      "\n",
      "Traceback (most recent call last):\n",
      "  File \"C:\\ProgramData\\Anaconda3\\lib\\site-packages\\flask\\app.py\", line 2447, in wsgi_app\n",
      "    response = self.full_dispatch_request()\n",
      "  File \"C:\\ProgramData\\Anaconda3\\lib\\site-packages\\flask\\app.py\", line 1952, in full_dispatch_request\n",
      "    rv = self.handle_user_exception(e)\n",
      "  File \"C:\\ProgramData\\Anaconda3\\lib\\site-packages\\flask\\app.py\", line 1821, in handle_user_exception\n",
      "    reraise(exc_type, exc_value, tb)\n",
      "  File \"C:\\ProgramData\\Anaconda3\\lib\\site-packages\\flask\\_compat.py\", line 39, in reraise\n",
      "    raise value\n",
      "  File \"C:\\ProgramData\\Anaconda3\\lib\\site-packages\\flask\\app.py\", line 1950, in full_dispatch_request\n",
      "    rv = self.dispatch_request()\n",
      "  File \"C:\\ProgramData\\Anaconda3\\lib\\site-packages\\flask\\app.py\", line 1936, in dispatch_request\n",
      "    return self.view_functions[rule.endpoint](**req.view_args)\n",
      "  File \"C:\\Users\\shora\\AppData\\Local\\Temp\\ipykernel_2720\\2868593505.py\", line 60, in login_data\n",
      "    urllib.request.urlretrieve(image_url, \"image.jpg\")\n",
      "  File \"C:\\ProgramData\\Anaconda3\\lib\\urllib\\request.py\", line 239, in urlretrieve\n",
      "    with contextlib.closing(urlopen(url, data)) as fp:\n",
      "  File \"C:\\ProgramData\\Anaconda3\\lib\\urllib\\request.py\", line 214, in urlopen\n",
      "    return opener.open(url, data, timeout)\n",
      "  File \"C:\\ProgramData\\Anaconda3\\lib\\urllib\\request.py\", line 517, in open\n",
      "    response = self._open(req, data)\n",
      "  File \"C:\\ProgramData\\Anaconda3\\lib\\urllib\\request.py\", line 534, in _open\n",
      "    result = self._call_chain(self.handle_open, protocol, protocol +\n",
      "  File \"C:\\ProgramData\\Anaconda3\\lib\\urllib\\request.py\", line 494, in _call_chain\n",
      "    result = func(*args)\n",
      "  File \"C:\\ProgramData\\Anaconda3\\lib\\urllib\\request.py\", line 1375, in http_open\n",
      "    return self.do_open(http.client.HTTPConnection, req)\n",
      "  File \"C:\\ProgramData\\Anaconda3\\lib\\urllib\\request.py\", line 1349, in do_open\n",
      "    raise URLError(err)\n",
      "urllib.error.URLError: <urlopen error [WinError 10060] A connection attempt failed because the connected party did not properly respond after a period of time, or established connection failed because connected host has failed to respond>\n",
      "INFO:werkzeug:192.168.186.27 - - [03/Jun/2023 05:15:50] \"\u001b[35m\u001b[1mPOST / HTTP/1.0\u001b[0m\" 500 -\n"
     ]
    }
   ],
   "source": [
    "from flask import Flask, request, jsonify\n",
    "from datetime import datetime\n",
    "import pandas as pd\n",
    "app = Flask(__name__)\n",
    "from pymongo import MongoClient\n",
    "import json\n",
    "from datetime import date\n",
    "import openai\n",
    "import numpy as np\n",
    "import cv2\n",
    "\n",
    "client = MongoClient('mongodb://localhost:27017')\n",
    "db = client.iot\n",
    "collection = db.vishes\n",
    "@app.route('/', methods=['POST'])\n",
    "def login_data():\n",
    " \n",
    "    data = request.get_json()\n",
    "    print(data)\n",
    "    temp1 = data['temp1']\n",
    "    hum1 = data['humi1']\n",
    "    print(temp1)\n",
    "    #temp2 = data['temp2']\n",
    "    gases=data['eth_gas']/0.001\n",
    "    Amonia = data['amm_gas']/0.0001\n",
    "    vocs = VOCs()/0.0001\n",
    "    Co2 = CO2()/20\n",
    "    temp2=data['temp2']\n",
    "    hum2=data['humi2']\n",
    "    hum=hum1-hum2\n",
    "    temp_rel=temp1-temp2\n",
    "    #img = data['image']\n",
    "#     s1, s2, s3, s4 = 0,0,0,0\n",
    "#     if temp_rel<10:\n",
    "#         s1=1\n",
    "#     if gas <= 0.002:\n",
    "#         s2=1;\n",
    "#     if hum <=50:\n",
    "#         s3=1;\n",
    "#     pred=False\n",
    "#     try:\n",
    "#         img = data['image']\n",
    "#         m, n = 380, 240\n",
    "#         matrix = np.random.randint(0, 255, size=(m, n, 3), dtype=np.uint8)\n",
    "#         if model.predict(matrix)==true:\n",
    "#             s4=1\n",
    "#             res=True\n",
    "    \n",
    "#     except:\n",
    "#         print(\"Image not recieved\")\n",
    "#     s=s1+s2+s3+s4\n",
    "#     res=False;\n",
    "#     if s>=3:\n",
    "#         res=True\n",
    "\n",
    "    weight_vector = [hum, temp_rel, Co2, vocs, Amonia, gases]\n",
    "    weight = sum(weight_vector)/len(weight_vector)\n",
    "    \n",
    "    image_url = \"http://192.168.131.167/capture?_cb=1685718605284\"\n",
    "    urllib.request.urlretrieve(image_url, \"image.jpg\")\n",
    "    \n",
    "    image = Image.open(\"image.jpg\")\n",
    "    image = image.resize((128, 128))  # Resize the image to the desired input size\n",
    "    image = np.array(image)\n",
    "    \n",
    "    cnn_model = load_model('fruitcnn.h5')\n",
    "    features = cnn_model.predict(image)\n",
    "    \n",
    "    combined_features = weight*features \n",
    "    \n",
    "    svm_classifier = joblib.load('fruitsvm.pkl')\n",
    "    \n",
    "    prediction = svm_classifierclassifier.predict(combined_features)\n",
    "    res='No'\n",
    "    if predition == '0':\n",
    "        res = 'yes'\n",
    "\n",
    "\n",
    "    data={'Rel_Humidity' :hum, 'Rel_Temp': temp_rel, 'Gas_con':weight, 'Model_pred':prediction0, 'Predicted' :res, 'Actual': res}\n",
    "    result = collection.insert_one(data)\n",
    "    # Get the JSON data sent from the client\n",
    "    # Process the data\n",
    "    # insert value into list in MongoDB\n",
    "   \n",
    "    return  jsonify((res))\n",
    "        # json_data = jsonify(mylist)\n",
    "        # return json_data\n",
    "\n",
    "if __name__ == '__main__':\n",
    "    app.run(host='0.0.0.0')\n"
   ]
  },
  {
   "cell_type": "code",
   "execution_count": null,
   "id": "67278cef",
   "metadata": {},
   "outputs": [],
   "source": []
  }
 ],
 "metadata": {
  "kernelspec": {
   "display_name": "Python 3 (ipykernel)",
   "language": "python",
   "name": "python3"
  },
  "language_info": {
   "codemirror_mode": {
    "name": "ipython",
    "version": 3
   },
   "file_extension": ".py",
   "mimetype": "text/x-python",
   "name": "python",
   "nbconvert_exporter": "python",
   "pygments_lexer": "ipython3",
   "version": "3.9.13"
  }
 },
 "nbformat": 4,
 "nbformat_minor": 5
}
